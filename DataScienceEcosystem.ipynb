{
 "cells": [
  {
   "cell_type": "markdown",
   "id": "2bcce67a-db78-4dbc-ab10-6b665b148b8e",
   "metadata": {},
   "source": [
    "# Data Science Tools and Ecosystem\n"
   ]
  },
  {
   "cell_type": "markdown",
   "id": "fa4bce6c-9723-4f07-9b81-576658d63f86",
   "metadata": {},
   "source": [
    "In this notebook, Data Science Tools and Ecosystem are summarized.\n"
   ]
  },
  {
   "cell_type": "markdown",
   "id": "2a9cfeea-76cc-4c75-8e0c-731c0a28d78f",
   "metadata": {},
   "source": [
    "Some of the popular languages that Data Scientists use are:\n",
    "1. Python\n",
    "2. R\n",
    "3. SQL\n"
   ]
  },
  {
   "cell_type": "markdown",
   "id": "9759add8-4961-4fd6-bc2b-40a63c1b5988",
   "metadata": {},
   "source": [
    "Some of the commonly used libraries used by Data Scientists include:\n",
    "1. Pandas\n",
    "2. NumPy\n",
    "3. Matplotlib\n"
   ]
  },
  {
   "cell_type": "markdown",
   "id": "2f13bfb2-1a1e-4551-ab82-96d4658f851d",
   "metadata": {},
   "source": [
    "\n",
    "\n",
    "| Data Science Tools |\n",
    "|--------------------|\n",
    "| Jupyter Notebook   |\n",
    "| RStudio            |\n",
    "| Visual Studio Code |\n"
   ]
  },
  {
   "cell_type": "markdown",
   "id": "10e380aa-f252-4f23-9c30-a76deb7c8024",
   "metadata": {},
   "source": [
    "### Below are a few examples of evaluating arithmetic expressions in Python"
   ]
  },
  {
   "cell_type": "code",
   "execution_count": 2,
   "id": "ca437d62-0e8f-473b-86ee-83dda012ed68",
   "metadata": {
    "tags": []
   },
   "outputs": [
    {
     "name": "stdout",
     "output_type": "stream",
     "text": [
      "17\n"
     ]
    }
   ],
   "source": [
    "x=(3*4)+5\n",
    "print(x)\n",
    "#This a simple arithmetic expression to mutiply then add integers"
   ]
  },
  {
   "cell_type": "code",
   "execution_count": 3,
   "id": "9a9b5aa0-b8a9-4781-aeba-a33edc6d2fcf",
   "metadata": {
    "tags": []
   },
   "outputs": [
    {
     "name": "stdout",
     "output_type": "stream",
     "text": [
      "3.3333333333333335\n"
     ]
    }
   ],
   "source": [
    "minutes = 200\n",
    "hours = minutes/60\n",
    "print(hours)\n",
    "\n",
    "#This will convert 200 minutes to hours by diving by 60"
   ]
  },
  {
   "cell_type": "markdown",
   "id": "52c40fdc-33e8-47a2-b839-687ad4315608",
   "metadata": {},
   "source": [
    "**Objetivos:**\n"
   ]
  },
  {
   "cell_type": "markdown",
   "id": "ad8dc29e-c4d2-460e-9957-30b9002a1ad0",
   "metadata": {},
   "source": [
    "\n",
    "- List popular languages for data science.\n",
    "- Present the libraries used in data science.\n",
    "- Introduce open source development tools for data science.\n"
   ]
  },
  {
   "cell_type": "markdown",
   "id": "6b9a2fe2-d352-489f-a825-96b91aa30750",
   "metadata": {},
   "source": [
    "## Author\n",
    "\n",
    "Guillermo Gil\n"
   ]
  },
  {
   "cell_type": "code",
   "execution_count": null,
   "id": "6269622e-b440-49eb-bb86-0fda0a24dbd5",
   "metadata": {},
   "outputs": [],
   "source": []
  }
 ],
 "metadata": {
  "kernelspec": {
   "display_name": "Python",
   "language": "python",
   "name": "conda-env-python-py"
  },
  "language_info": {
   "codemirror_mode": {
    "name": "ipython",
    "version": 3
   },
   "file_extension": ".py",
   "mimetype": "text/x-python",
   "name": "python",
   "nbconvert_exporter": "python",
   "pygments_lexer": "ipython3",
   "version": "3.7.12"
  }
 },
 "nbformat": 4,
 "nbformat_minor": 5
}
